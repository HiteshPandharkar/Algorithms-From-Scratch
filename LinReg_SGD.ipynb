{
  "nbformat": 4,
  "nbformat_minor": 0,
  "metadata": {
    "colab": {
      "name": "LinReg SGD",
      "provenance": [],
      "collapsed_sections": [],
      "authorship_tag": "ABX9TyOwH0cKd6uYIeIHbg2qBBgz",
      "include_colab_link": true
    },
    "kernelspec": {
      "name": "python3",
      "display_name": "Python 3"
    }
  },
  "cells": [
    {
      "cell_type": "markdown",
      "metadata": {
        "id": "view-in-github",
        "colab_type": "text"
      },
      "source": [
        "<a href=\"https://colab.research.google.com/github/HiteshPandharkar/Algorithms-From-Scratch/blob/main/LinReg_SGD.ipynb\" target=\"_parent\"><img src=\"https://colab.research.google.com/assets/colab-badge.svg\" alt=\"Open In Colab\"/></a>"
      ]
    },
    {
      "cell_type": "code",
      "metadata": {
        "id": "-WVUIRe5Hfa2"
      },
      "source": [
        "from sklearn.datasets import load_boston\r\n",
        "\r\n",
        "import numpy as np\r\n",
        "import pandas as pd\r\n",
        "\r\n",
        "import matplotlib.pyplot as plt\r\n",
        "import seaborn as sns\r\n",
        "\r\n",
        "import warnings \r\n",
        "warnings.filterwarnings('ignore')"
      ],
      "execution_count": null,
      "outputs": []
    },
    {
      "cell_type": "code",
      "metadata": {
        "id": "XaHiVCKIIVyl"
      },
      "source": [
        "data = load_boston()\r\n",
        "\r\n",
        "x = data['data'][: 450]\r\n",
        "y = data['target'][: 450]\r\n",
        "\r\n",
        "x_test = data['data'][450: ]\r\n",
        "y_test = data['target'][450: ]"
      ],
      "execution_count": null,
      "outputs": []
    },
    {
      "cell_type": "code",
      "metadata": {
        "id": "3yP2GO6PNo8x"
      },
      "source": [
        "class LinearRegression :\r\n",
        "\r\n",
        "  def __init__(self, learning_rate, epochs) :\r\n",
        "    self.coeff = np.array([])\r\n",
        "    self.intercept = 0\r\n",
        "    self.learning_rate = learning_rate\r\n",
        "    self.epochs = epochs\r\n",
        "    self.error = np.array([])\r\n",
        "\r\n",
        "  def fit(self, x, y) :\r\n",
        "\r\n",
        "    ones = np.ones(len(x)).reshape(-1, 1)\r\n",
        "    x = np.concatenate((ones, x), axis=1)\r\n",
        "\r\n",
        "    self.theta = np.zeros(len(data['feature_names'])+1)\r\n",
        "\r\n",
        "    #y_hat = np.array([np.mean(y) for i in range(len(y))])\r\n",
        "\r\n",
        "    a = np.concatenate((x, y.reshape(-1, 1)), axis=1)\r\n",
        "\r\n",
        "    for i in range(self.epochs) :\r\n",
        "      np.random.shuffle(a)\r\n",
        "      X = a[:, :-1]\r\n",
        "      Y = a[:, -1]\r\n",
        "      for j in range(len(X)) :\r\n",
        "\r\n",
        "        y_hat = np.dot(X[j], self.theta)\r\n",
        "\r\n",
        "        error = (y_hat-Y[j])*X[j]\r\n",
        "        rate = self.learning_rate/len(X)\r\n",
        "\r\n",
        "        self.theta = self.theta-(rate*error)\r\n",
        "      if i == self.epochs-1 :\r\n",
        "        self.coeff = self.theta[1:]\r\n",
        "        self.intercept = self.theta[0]\r\n",
        "\r\n",
        "\r\n",
        "  def predict(self, x_test) :\r\n",
        "\r\n",
        "    ones = np.ones(len(x_test)).reshape(len(x_test), 1)\r\n",
        "    x_test = np.concatenate((ones, x_test), axis=1)\r\n",
        "\r\n",
        "    y_pred = np.dot(x_test, self.theta)\r\n",
        "\r\n",
        "    return y_pred\r\n"
      ],
      "execution_count": null,
      "outputs": []
    },
    {
      "cell_type": "code",
      "metadata": {
        "id": "RGGWOm9P3m9Z"
      },
      "source": [
        "mode = LinearRegression(learning_rate=.00001, epochs=10000)\r\n",
        "mode.fit(x, y)"
      ],
      "execution_count": null,
      "outputs": []
    },
    {
      "cell_type": "code",
      "metadata": {
        "colab": {
          "base_uri": "https://localhost:8080/"
        },
        "id": "i367ZZMuZoK9",
        "outputId": "4b36181e-94f6-41c3-a6e3-e14b08604a3f"
      },
      "source": [
        "mode.predict(x_test)"
      ],
      "execution_count": null,
      "outputs": [
        {
          "output_type": "execute_result",
          "data": {
            "text/plain": [
              "array([ 9.13926772, 22.59905933, 23.15683278, 24.38367168,  8.23637005,\n",
              "        9.80395551,  7.50046809,  7.64582537, 18.66277262, 24.50184318,\n",
              "       19.1305812 , 25.27610581, 25.04882801, 28.89149191, 23.44436394,\n",
              "       18.6647156 ,  9.11721417, 18.16873293, 18.20186581, 20.40710242,\n",
              "       23.47215895, 26.99742521, 24.06641645, 24.86875998, 20.92634852,\n",
              "       15.12169295, 22.76194596, 14.84232753, 22.34126651, 25.01624173,\n",
              "       25.56977808, 29.30127319, 30.37476231, 22.89437494, 20.03202741,\n",
              "       24.16468896, 23.71824973, 23.26753848, 22.31122266, 16.33693121,\n",
              "       10.61718956, 23.11684206, 25.370049  , 21.75617279, 19.27187645,\n",
              "       14.19823845, 16.45569463, 22.04804524, 22.49952625, 21.42991604,\n",
              "       23.04841097, 25.41368372, 26.6975096 , 31.57013168, 30.47215936,\n",
              "       28.08783763])"
            ]
          },
          "metadata": {
            "tags": []
          },
          "execution_count": 7
        }
      ]
    },
    {
      "cell_type": "code",
      "metadata": {
        "colab": {
          "base_uri": "https://localhost:8080/"
        },
        "id": "0wcpdQFBdMA3",
        "outputId": "83747357-260a-49f0-a67e-d743ef3e7462"
      },
      "source": [
        "mode.coeff"
      ],
      "execution_count": null,
      "outputs": [
        {
          "output_type": "execute_result",
          "data": {
            "text/plain": [
              "array([-0.10049862,  0.10369   , -0.03996385,  0.03257416,  0.01743279,\n",
              "        0.5334846 ,  0.11616638,  0.00293698,  0.02684223,  0.00503705,\n",
              "        0.30097615,  0.03651975, -0.80136315])"
            ]
          },
          "metadata": {
            "tags": []
          },
          "execution_count": 8
        }
      ]
    },
    {
      "cell_type": "code",
      "metadata": {
        "colab": {
          "base_uri": "https://localhost:8080/"
        },
        "id": "f6zhrCQudRr1",
        "outputId": "11366258-225f-4854-d71d-fe1987ceb269"
      },
      "source": [
        "mode.intercept"
      ],
      "execution_count": null,
      "outputs": [
        {
          "output_type": "execute_result",
          "data": {
            "text/plain": [
              "0.04646629983744112"
            ]
          },
          "metadata": {
            "tags": []
          },
          "execution_count": 9
        }
      ]
    },
    {
      "cell_type": "code",
      "metadata": {
        "id": "LzqcdQYhaFNO",
        "colab": {
          "base_uri": "https://localhost:8080/"
        },
        "outputId": "e30f5148-0e73-435d-b347-716d0cdb291d"
      },
      "source": [
        "from sklearn.linear_model import LinearRegression\r\n",
        "\r\n",
        "model = LinearRegression()\r\n",
        "\r\n",
        "model.fit(x, y)\r\n",
        "\r\n",
        "model.predict(x_test)"
      ],
      "execution_count": null,
      "outputs": [
        {
          "output_type": "execute_result",
          "data": {
            "text/plain": [
              "array([16.93342847, 20.02045317, 19.1112216 , 23.22511636, 15.67053396,\n",
              "       16.16461608, 12.94871109, 13.10761941, 17.6319346 , 19.03284579,\n",
              "       19.59255106, 20.77045231, 20.32972514, 23.18351143, 20.68319592,\n",
              "       18.0040013 , 14.64560774, 17.27282806, 17.13977735, 18.68551487,\n",
              "       20.60338383, 23.55507294, 22.87962378, 26.04862777, 16.72644386,\n",
              "       16.36479094, 21.00709718, 11.6612751 , 19.64804461, 22.3241981 ,\n",
              "       23.86289088, 27.72777956, 29.28276029, 21.24700039, 19.56624682,\n",
              "       22.57946369, 20.10876414, 21.5593847 , 10.86871125,  7.10200759,\n",
              "        2.34094092, 12.89668156, 15.06381197, 20.29041819, 20.14661342,\n",
              "       16.17245839, 13.60940848, 18.92607466, 21.08818519, 18.21312845,\n",
              "       20.37078103, 23.66927765, 22.53513428, 28.11477396, 26.56785292,\n",
              "       22.58084479])"
            ]
          },
          "metadata": {
            "tags": []
          },
          "execution_count": 10
        }
      ]
    },
    {
      "cell_type": "code",
      "metadata": {
        "colab": {
          "base_uri": "https://localhost:8080/"
        },
        "id": "kvo89Q2qeVBZ",
        "outputId": "f8253f19-0cbb-48da-ab1d-de6cae4819df"
      },
      "source": [
        "model.coef_"
      ],
      "execution_count": null,
      "outputs": [
        {
          "output_type": "execute_result",
          "data": {
            "text/plain": [
              "array([-1.12706397e-01,  4.84679322e-02,  3.51619982e-02,  2.43036682e+00,\n",
              "       -1.71555914e+01,  3.92937664e+00,  1.05952560e-02, -1.40598405e+00,\n",
              "        3.72316544e-01, -1.54340774e-02, -9.03360601e-01,  9.74047349e-03,\n",
              "       -5.51630479e-01])"
            ]
          },
          "metadata": {
            "tags": []
          },
          "execution_count": 11
        }
      ]
    },
    {
      "cell_type": "code",
      "metadata": {
        "colab": {
          "base_uri": "https://localhost:8080/"
        },
        "id": "4IGVr1VZehYn",
        "outputId": "56ac27b8-f988-4fd8-e239-df4bd4f549c8"
      },
      "source": [
        "model.intercept_"
      ],
      "execution_count": null,
      "outputs": [
        {
          "output_type": "execute_result",
          "data": {
            "text/plain": [
              "34.26122511499132"
            ]
          },
          "metadata": {
            "tags": []
          },
          "execution_count": 12
        }
      ]
    },
    {
      "cell_type": "code",
      "metadata": {
        "id": "98yQgOd8esjc"
      },
      "source": [
        ""
      ],
      "execution_count": null,
      "outputs": []
    }
  ]
}