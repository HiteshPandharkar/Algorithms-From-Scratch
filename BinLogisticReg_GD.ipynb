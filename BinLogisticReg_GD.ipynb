{
  "nbformat": 4,
  "nbformat_minor": 0,
  "metadata": {
    "colab": {
      "name": "BinLogisticReg GD",
      "provenance": [],
      "authorship_tag": "ABX9TyODXDxo35CDBATQIDYdvfID",
      "include_colab_link": true
    },
    "kernelspec": {
      "name": "python3",
      "display_name": "Python 3"
    }
  },
  "cells": [
    {
      "cell_type": "markdown",
      "metadata": {
        "id": "view-in-github",
        "colab_type": "text"
      },
      "source": [
        "<a href=\"https://colab.research.google.com/github/HiteshPandharkar/Algorithms-From-Scratch/blob/main/BinLogisticReg_GD.ipynb\" target=\"_parent\"><img src=\"https://colab.research.google.com/assets/colab-badge.svg\" alt=\"Open In Colab\"/></a>"
      ]
    },
    {
      "cell_type": "code",
      "metadata": {
        "id": "GxtofLXj_d8b"
      },
      "source": [
        "from sklearn.datasets import load_breast_cancer\r\n",
        "\r\n",
        "import numpy as np\r\n",
        "\r\n",
        "import warnings\r\n",
        "warnings.filterwarnings('ignore')"
      ],
      "execution_count": null,
      "outputs": []
    },
    {
      "cell_type": "code",
      "metadata": {
        "id": "UUvx5GHz_1B0"
      },
      "source": [
        "data = load_breast_cancer()\r\n",
        "\r\n",
        "x = data['data'][: 500]\r\n",
        "y = data['target'][: 500]\r\n",
        "\r\n",
        "x_test = data['data'][500: ]\r\n",
        "y_test = data['target'][500: ]"
      ],
      "execution_count": null,
      "outputs": []
    },
    {
      "cell_type": "code",
      "metadata": {
        "id": "pgaMOil_AFy8"
      },
      "source": [
        "class scrappy_BinaryLogisticRegression :\r\n",
        "\r\n",
        "  def __init__(self, learning_rate, epochs) :\r\n",
        "    self.learning_rate=learning_rate\r\n",
        "    self.epochs=epochs\r\n",
        "    \r\n",
        "\r\n",
        "  def fit(self, x, y) :\r\n",
        "\r\n",
        "    ones = np.ones(len(x)).reshape(-1, 1)\r\n",
        "    x = np.concatenate((ones, x), axis=1)\r\n",
        "\r\n",
        "    self.b_hat = np.zeros(x.shape[1])\r\n",
        "\r\n",
        "    for i in range(self.epochs) :\r\n",
        "\r\n",
        "      prob = 1/(1+np.exp(np.dot(x, self.b_hat)))\r\n",
        "      gradient = np.dot(x.T, y-prob)\r\n",
        "      self.b_hat = self.b_hat-(self.learning_rate*gradient)\r\n",
        "\r\n",
        "\r\n",
        "  def predict(self, x_test) :\r\n",
        "\r\n",
        "    ones = np.ones(len(x_test)).reshape(-1, 1)\r\n",
        "    x_test = np.concatenate((ones, x_test), axis=1)\r\n",
        "\r\n",
        "    y_pred = 1/(1+np.exp(np.dot(x_test, self.b_hat)))\r\n",
        "\r\n",
        "    y_pred = y_pred.round()\r\n",
        "\r\n",
        "    return y_pred"
      ],
      "execution_count": null,
      "outputs": []
    },
    {
      "cell_type": "code",
      "metadata": {
        "id": "1-kNt1qyIKML"
      },
      "source": [
        "model = scrappy_BinaryLogisticRegression(learning_rate=.0001, epochs=10**5)\r\n",
        "\r\n",
        "model.fit(x, y)"
      ],
      "execution_count": null,
      "outputs": []
    },
    {
      "cell_type": "code",
      "metadata": {
        "colab": {
          "base_uri": "https://localhost:8080/"
        },
        "id": "yvaTwcX-IUNl",
        "outputId": "388822c6-8e70-4e83-d1e6-888f3c53de90"
      },
      "source": [
        "model.predict(x_test)"
      ],
      "execution_count": null,
      "outputs": [
        {
          "output_type": "execute_result",
          "data": {
            "text/plain": [
              "array([1., 1., 1., 0., 1., 1., 1., 1., 1., 1., 1., 1., 0., 1., 0., 1., 0.,\n",
              "       0., 1., 1., 1., 0., 1., 1., 1., 1., 1., 1., 1., 1., 1., 1., 1., 0.,\n",
              "       1., 0., 1., 1., 1., 1., 1., 1., 1., 1., 1., 1., 1., 1., 1., 1., 1.,\n",
              "       1., 1., 1., 1., 1., 1., 1., 1., 1., 1., 1., 1., 0., 0., 0., 0., 0.,\n",
              "       1.])"
            ]
          },
          "metadata": {
            "tags": []
          },
          "execution_count": 7
        }
      ]
    },
    {
      "cell_type": "code",
      "metadata": {
        "id": "G6VzAIIALOpP"
      },
      "source": [
        "from sklearn.linear_model import LogisticRegression"
      ],
      "execution_count": null,
      "outputs": []
    },
    {
      "cell_type": "code",
      "metadata": {
        "colab": {
          "base_uri": "https://localhost:8080/"
        },
        "id": "A_WswQccTSei",
        "outputId": "5c4f58be-d8e3-4bdb-d4cf-5f2bd294fbc0"
      },
      "source": [
        "model1 = LogisticRegression(random_state=44, max_iter=10**5)\r\n",
        "model1.fit(x, y)"
      ],
      "execution_count": null,
      "outputs": [
        {
          "output_type": "execute_result",
          "data": {
            "text/plain": [
              "LogisticRegression(C=1.0, class_weight=None, dual=False, fit_intercept=True,\n",
              "                   intercept_scaling=1, l1_ratio=None, max_iter=100000,\n",
              "                   multi_class='auto', n_jobs=None, penalty='l2',\n",
              "                   random_state=44, solver='lbfgs', tol=0.0001, verbose=0,\n",
              "                   warm_start=False)"
            ]
          },
          "metadata": {
            "tags": []
          },
          "execution_count": 9
        }
      ]
    },
    {
      "cell_type": "code",
      "metadata": {
        "colab": {
          "base_uri": "https://localhost:8080/"
        },
        "id": "_O3E9ctKTpp4",
        "outputId": "275cf765-f806-4d91-8bc3-3ccd63cda011"
      },
      "source": [
        "model1.predict(x_test)"
      ],
      "execution_count": null,
      "outputs": [
        {
          "output_type": "execute_result",
          "data": {
            "text/plain": [
              "array([1, 0, 1, 0, 1, 1, 1, 1, 1, 0, 1, 1, 0, 1, 0, 1, 0, 0, 1, 1, 1, 0,\n",
              "       1, 1, 1, 1, 1, 1, 1, 1, 1, 1, 1, 0, 1, 0, 1, 1, 1, 1, 1, 0, 1, 1,\n",
              "       1, 1, 1, 1, 1, 1, 1, 1, 1, 1, 1, 1, 1, 1, 1, 1, 1, 1, 0, 0, 0, 0,\n",
              "       0, 0, 1])"
            ]
          },
          "metadata": {
            "tags": []
          },
          "execution_count": 10
        }
      ]
    },
    {
      "cell_type": "code",
      "metadata": {
        "id": "P97psoU6UCEc"
      },
      "source": [
        ""
      ],
      "execution_count": null,
      "outputs": []
    }
  ]
}