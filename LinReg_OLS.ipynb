{
  "nbformat": 4,
  "nbformat_minor": 0,
  "metadata": {
    "colab": {
      "name": "LinReg OLS",
      "provenance": [],
      "authorship_tag": "ABX9TyPQf2RS3vb33DN0TTe2jzTE",
      "include_colab_link": true
    },
    "kernelspec": {
      "name": "python3",
      "display_name": "Python 3"
    }
  },
  "cells": [
    {
      "cell_type": "markdown",
      "metadata": {
        "id": "view-in-github",
        "colab_type": "text"
      },
      "source": [
        "<a href=\"https://colab.research.google.com/github/HiteshPandharkar/Algorithms-From-Scratch/blob/main/LinReg_OLS.ipynb\" target=\"_parent\"><img src=\"https://colab.research.google.com/assets/colab-badge.svg\" alt=\"Open In Colab\"/></a>"
      ]
    },
    {
      "cell_type": "markdown",
      "metadata": {
        "id": "1K3R1JnQaoZx"
      },
      "source": [
        "# Implementing multiple linear regression with numpy using ordinary least squares."
      ]
    },
    {
      "cell_type": "code",
      "metadata": {
        "id": "Yxjnv9pbmhTI"
      },
      "source": [
        "from google.colab import files\r\n",
        "files.upload()"
      ],
      "execution_count": null,
      "outputs": []
    },
    {
      "cell_type": "code",
      "metadata": {
        "id": "UuOqLz8s_Lsl"
      },
      "source": [
        "import numpy as np\r\n",
        "import pandas as pd\r\n",
        "from sklearn.datasets import load_boston\r\n",
        "\r\n",
        "import matplotlib.pyplot as plt\r\n",
        "import seaborn as sns\r\n",
        "\r\n",
        "import warnings \r\n",
        "warnings.filterwarnings('ignore')"
      ],
      "execution_count": null,
      "outputs": []
    },
    {
      "cell_type": "markdown",
      "metadata": {
        "id": "DO-goImSdEdu"
      },
      "source": [
        "## Concept OLS :-\r\n",
        "\r\n",
        "### The ordinary least squares figures out the coefficients and the constant term using a nice analytical equation to minimize the squared error for that dataset.\r\n",
        "\r\n",
        "### The dataset used here is boston housing dataset and the student score dataset.\r\n",
        "\r\n",
        "### The housing dataset has 13 independant and 1 dependant variable. \r\n",
        "### The student score has 1 independant and 1 dependant variable."
      ]
    },
    {
      "cell_type": "code",
      "metadata": {
        "colab": {
          "base_uri": "https://localhost:8080/",
          "height": 35
        },
        "id": "6XxWhdLRABit",
        "outputId": "6c9f5d9b-3978-45f6-9b10-303562206e82"
      },
      "source": [
        "data = load_boston(return_X_y=True)     #Loading boston dataset.\r\n",
        "\r\n",
        "x_b = data[0][0: 450]\r\n",
        "y_b = data[1][0: 450]\r\n",
        "\r\n",
        "x_test_b = data[0][450: ]\r\n",
        "y_test_b = data[1][450: ]\r\n",
        "\r\n",
        "\r\n",
        "'''data = load_boston()\r\n",
        "\r\n",
        "x_b = data['data'][0: 450]\r\n",
        "y_b = data['target'][0: 450]'''"
      ],
      "execution_count": null,
      "outputs": [
        {
          "output_type": "execute_result",
          "data": {
            "application/vnd.google.colaboratory.intrinsic+json": {
              "type": "string"
            },
            "text/plain": [
              "\"data = load_boston()\\n\\nx_b = data['data'][0: 450]\\ny_b = data['target'][0: 450]\""
            ]
          },
          "metadata": {
            "tags": []
          },
          "execution_count": 3
        }
      ]
    },
    {
      "cell_type": "code",
      "metadata": {
        "id": "keyHEAJziu1A"
      },
      "source": [
        "data = pd.read_csv('student_scores.csv') #Loading student dataset.\r\n",
        "\r\n",
        "x_s = data.iloc[:, 0].values.reshape(-1, 1)\r\n",
        "y_s = data.iloc[:, 1]"
      ],
      "execution_count": null,
      "outputs": []
    },
    {
      "cell_type": "code",
      "metadata": {
        "id": "FiXXgeuwAqn5"
      },
      "source": [
        "class LinearRegression :\r\n",
        "\r\n",
        "  def __init__(self) :\r\n",
        "\r\n",
        "    self.coeff = 0                  #Coefficients\r\n",
        "    self.intercept = np.array([])   #Constant \r\n",
        "\r\n",
        "  def fit(self, x, y) :\r\n",
        "\r\n",
        "    #Fit function will contain the calculation of the coefficients and constant term for the dataset.\r\n",
        "\r\n",
        "    ones = np.ones(len(x)).reshape(len(x), 1)\r\n",
        "    x = np.concatenate((ones, x), axis=1)\r\n",
        "\r\n",
        "    self.x = x\r\n",
        "    self.y = y\r\n",
        "\r\n",
        "    xtx = np.dot(self.x.T, self.x)\r\n",
        "    xtx_inv = np.linalg.inv(xtx)\r\n",
        "    xty = np.dot(self.x.T, self.y)\r\n",
        "    self.b_hat = np.dot(xtx_inv, xty)\r\n",
        "\r\n",
        "    y_hat = np.dot(x, self.b_hat)\r\n",
        "\r\n",
        "    train_loss = .5*np.sum((y_hat-y)**2)\r\n",
        "\r\n",
        "    self.coeff = np.around(self.b_hat[1: ], decimals=6)\r\n",
        "    self.intercept = self.b_hat[0]\r\n",
        "\r\n",
        "  def predict(self, x_test) :\r\n",
        "\r\n",
        "    #The predict function will do the prediction on unseen data.\r\n",
        "\r\n",
        "    ones = np.ones(len(x_test)).reshape(len(x_test), 1)\r\n",
        "    x_test = np.concatenate((ones, x_test), axis=1)\r\n",
        "\r\n",
        "    self.y_pred = np.dot(x_test, self.b_hat)\r\n",
        "\r\n",
        "    return self.y_pred"
      ],
      "execution_count": null,
      "outputs": []
    },
    {
      "cell_type": "code",
      "metadata": {
        "id": "AsUqdKK4GHIE"
      },
      "source": [
        "model_b = LinearRegression()\r\n",
        "model_b.fit(x_b, y_b)"
      ],
      "execution_count": null,
      "outputs": []
    },
    {
      "cell_type": "code",
      "metadata": {
        "colab": {
          "base_uri": "https://localhost:8080/"
        },
        "id": "21I07-E4KI5Q",
        "outputId": "f71f23ba-c09a-40cd-c45c-36b0fbfcf462"
      },
      "source": [
        "model_b.intercept"
      ],
      "execution_count": null,
      "outputs": [
        {
          "output_type": "execute_result",
          "data": {
            "text/plain": [
              "34.26122511495987"
            ]
          },
          "metadata": {
            "tags": []
          },
          "execution_count": 7
        }
      ]
    },
    {
      "cell_type": "code",
      "metadata": {
        "colab": {
          "base_uri": "https://localhost:8080/"
        },
        "id": "hWK6MrjyvDBY",
        "outputId": "50027600-227f-4cd6-afd6-d1605aadecda"
      },
      "source": [
        "model_b.coeff"
      ],
      "execution_count": null,
      "outputs": [
        {
          "output_type": "execute_result",
          "data": {
            "text/plain": [
              "array([-1.1270600e-01,  4.8468000e-02,  3.5162000e-02,  2.4303670e+00,\n",
              "       -1.7155591e+01,  3.9293770e+00,  1.0595000e-02, -1.4059840e+00,\n",
              "        3.7231700e-01, -1.5434000e-02, -9.0336100e-01,  9.7400000e-03,\n",
              "       -5.5163000e-01])"
            ]
          },
          "metadata": {
            "tags": []
          },
          "execution_count": 8
        }
      ]
    },
    {
      "cell_type": "code",
      "metadata": {
        "colab": {
          "base_uri": "https://localhost:8080/"
        },
        "id": "2LDNVX5ZvdCK",
        "outputId": "c5262a15-8e5e-4c68-ca86-d0ef48830083"
      },
      "source": [
        "model_b.predict(x_test_b)"
      ],
      "execution_count": null,
      "outputs": [
        {
          "output_type": "execute_result",
          "data": {
            "text/plain": [
              "array([16.93342847, 20.02045317, 19.1112216 , 23.22511636, 15.67053396,\n",
              "       16.16461608, 12.94871109, 13.10761941, 17.6319346 , 19.03284579,\n",
              "       19.59255106, 20.77045231, 20.32972514, 23.18351143, 20.68319592,\n",
              "       18.0040013 , 14.64560774, 17.27282806, 17.13977735, 18.68551487,\n",
              "       20.60338383, 23.55507294, 22.87962378, 26.04862777, 16.72644386,\n",
              "       16.36479094, 21.00709718, 11.6612751 , 19.64804461, 22.3241981 ,\n",
              "       23.86289088, 27.72777956, 29.28276029, 21.24700039, 19.56624682,\n",
              "       22.57946369, 20.10876414, 21.5593847 , 10.86871125,  7.10200759,\n",
              "        2.34094092, 12.89668156, 15.06381197, 20.29041819, 20.14661342,\n",
              "       16.17245839, 13.60940848, 18.92607466, 21.08818519, 18.21312845,\n",
              "       20.37078103, 23.66927765, 22.53513428, 28.11477396, 26.56785292,\n",
              "       22.58084479])"
            ]
          },
          "metadata": {
            "tags": []
          },
          "execution_count": 9
        }
      ]
    },
    {
      "cell_type": "code",
      "metadata": {
        "id": "lDLuwZRsj34K"
      },
      "source": [
        "model_s = LinearRegression()\r\n",
        "model_s.fit(x_s, y_s)"
      ],
      "execution_count": null,
      "outputs": []
    },
    {
      "cell_type": "code",
      "metadata": {
        "colab": {
          "base_uri": "https://localhost:8080/"
        },
        "id": "oyilnAGdmCh0",
        "outputId": "4606e2c4-dc08-44e8-8b14-204cd75628ec"
      },
      "source": [
        "model_s.intercept"
      ],
      "execution_count": null,
      "outputs": [
        {
          "output_type": "execute_result",
          "data": {
            "text/plain": [
              "2.483673405373156"
            ]
          },
          "metadata": {
            "tags": []
          },
          "execution_count": 11
        }
      ]
    },
    {
      "cell_type": "code",
      "metadata": {
        "colab": {
          "base_uri": "https://localhost:8080/"
        },
        "id": "ZdU_l98fmLhy",
        "outputId": "b6fdedc2-e380-43dd-fe8d-0f871be757e4"
      },
      "source": [
        "model_s.coeff"
      ],
      "execution_count": null,
      "outputs": [
        {
          "output_type": "execute_result",
          "data": {
            "text/plain": [
              "array([9.775803])"
            ]
          },
          "metadata": {
            "tags": []
          },
          "execution_count": 12
        }
      ]
    },
    {
      "cell_type": "markdown",
      "metadata": {
        "id": "kJH7ZbQliKCv"
      },
      "source": [
        "# Implementing multiple linear regression using statsmodel package."
      ]
    },
    {
      "cell_type": "code",
      "metadata": {
        "id": "tqrVybxtR8Z6"
      },
      "source": [
        "#from statsmodels.regression.linear_model import OLS\r\n",
        "import statsmodels.api as sm "
      ],
      "execution_count": null,
      "outputs": []
    },
    {
      "cell_type": "code",
      "metadata": {
        "id": "lqaCTUZPn1eG"
      },
      "source": [
        "x_b = sm.add_constant(x_b)"
      ],
      "execution_count": null,
      "outputs": []
    },
    {
      "cell_type": "code",
      "metadata": {
        "id": "Syfd1gR7SIb7"
      },
      "source": [
        "result = sm.OLS(y_b,x_b).fit()"
      ],
      "execution_count": null,
      "outputs": []
    },
    {
      "cell_type": "code",
      "metadata": {
        "colab": {
          "base_uri": "https://localhost:8080/"
        },
        "id": "f2jx1xgLmGGd",
        "outputId": "5e0d2350-4134-43d8-af67-4d68127b3229"
      },
      "source": [
        "print(result.summary())"
      ],
      "execution_count": null,
      "outputs": [
        {
          "output_type": "stream",
          "text": [
            "                            OLS Regression Results                            \n",
            "==============================================================================\n",
            "Dep. Variable:                      y   R-squared:                       0.742\n",
            "Model:                            OLS   Adj. R-squared:                  0.734\n",
            "Method:                 Least Squares   F-statistic:                     96.22\n",
            "Date:                Sun, 07 Feb 2021   Prob (F-statistic):          4.30e-119\n",
            "Time:                        18:01:35   Log-Likelihood:                -1347.3\n",
            "No. Observations:                 450   AIC:                             2723.\n",
            "Df Residuals:                     436   BIC:                             2780.\n",
            "Df Model:                          13                                         \n",
            "Covariance Type:            nonrobust                                         \n",
            "==============================================================================\n",
            "                 coef    std err          t      P>|t|      [0.025      0.975]\n",
            "------------------------------------------------------------------------------\n",
            "const         34.2612      5.497      6.232      0.000      23.457      45.066\n",
            "x1            -0.1127      0.036     -3.164      0.002      -0.183      -0.043\n",
            "x2             0.0485      0.014      3.372      0.001       0.020       0.077\n",
            "x3             0.0352      0.066      0.530      0.597      -0.095       0.166\n",
            "x4             2.4304      0.898      2.706      0.007       0.665       4.196\n",
            "x5           -17.1556      4.258     -4.029      0.000     -25.525      -8.786\n",
            "x6             3.9294      0.446      8.815      0.000       3.053       4.805\n",
            "x7             0.0106      0.014      0.743      0.458      -0.017       0.039\n",
            "x8            -1.4060      0.213     -6.612      0.000      -1.824      -0.988\n",
            "x9             0.3723      0.083      4.468      0.000       0.209       0.536\n",
            "x10           -0.0154      0.005     -3.410      0.001      -0.024      -0.007\n",
            "x11           -0.9034      0.141     -6.390      0.000      -1.181      -0.625\n",
            "x12            0.0097      0.003      3.105      0.002       0.004       0.016\n",
            "x13           -0.5516      0.054    -10.184      0.000      -0.658      -0.445\n",
            "==============================================================================\n",
            "Omnibus:                      147.555   Durbin-Watson:                   1.091\n",
            "Prob(Omnibus):                  0.000   Jarque-Bera (JB):              568.310\n",
            "Skew:                           1.438   Prob(JB):                    3.92e-124\n",
            "Kurtosis:                       7.694   Cond. No.                     1.44e+04\n",
            "==============================================================================\n",
            "\n",
            "Warnings:\n",
            "[1] Standard Errors assume that the covariance matrix of the errors is correctly specified.\n",
            "[2] The condition number is large, 1.44e+04. This might indicate that there are\n",
            "strong multicollinearity or other numerical problems.\n"
          ],
          "name": "stdout"
        }
      ]
    },
    {
      "cell_type": "code",
      "metadata": {
        "id": "MK4maXYX1IEq"
      },
      "source": [
        "x_test_b = sm.add_constant(x_test_b)"
      ],
      "execution_count": null,
      "outputs": []
    },
    {
      "cell_type": "code",
      "metadata": {
        "colab": {
          "base_uri": "https://localhost:8080/"
        },
        "id": "ll8bk3xWmVM8",
        "outputId": "592e52be-2a84-422b-b4e8-32b57ac5c9cf"
      },
      "source": [
        "result.predict(x_test_b)"
      ],
      "execution_count": null,
      "outputs": [
        {
          "output_type": "execute_result",
          "data": {
            "text/plain": [
              "array([16.93342847, 20.02045317, 19.1112216 , 23.22511636, 15.67053396,\n",
              "       16.16461608, 12.94871109, 13.10761941, 17.6319346 , 19.03284579,\n",
              "       19.59255106, 20.77045231, 20.32972514, 23.18351143, 20.68319592,\n",
              "       18.0040013 , 14.64560774, 17.27282806, 17.13977735, 18.68551487,\n",
              "       20.60338383, 23.55507294, 22.87962378, 26.04862777, 16.72644386,\n",
              "       16.36479094, 21.00709718, 11.6612751 , 19.64804461, 22.3241981 ,\n",
              "       23.86289088, 27.72777956, 29.28276029, 21.24700039, 19.56624682,\n",
              "       22.57946369, 20.10876414, 21.5593847 , 10.86871125,  7.10200759,\n",
              "        2.34094092, 12.89668156, 15.06381197, 20.29041819, 20.14661342,\n",
              "       16.17245839, 13.60940848, 18.92607466, 21.08818519, 18.21312845,\n",
              "       20.37078103, 23.66927765, 22.53513428, 28.11477396, 26.56785292,\n",
              "       22.58084479])"
            ]
          },
          "metadata": {
            "tags": []
          },
          "execution_count": 18
        }
      ]
    },
    {
      "cell_type": "code",
      "metadata": {
        "id": "dFT_WgRXvxj4"
      },
      "source": [
        "x_sm = sm.add_constant(x_s) #Using a slightly different naming convention."
      ],
      "execution_count": null,
      "outputs": []
    },
    {
      "cell_type": "code",
      "metadata": {
        "id": "Domks-mfnCsH"
      },
      "source": [
        "result_s = sm.OLS(y_s,x_sm).fit()"
      ],
      "execution_count": null,
      "outputs": []
    },
    {
      "cell_type": "code",
      "metadata": {
        "colab": {
          "base_uri": "https://localhost:8080/"
        },
        "id": "_QcDo3GWnIhj",
        "outputId": "84889326-b8f0-430d-f3eb-15ec315070cd"
      },
      "source": [
        "print(result_s.summary())"
      ],
      "execution_count": null,
      "outputs": [
        {
          "output_type": "stream",
          "text": [
            "                            OLS Regression Results                            \n",
            "==============================================================================\n",
            "Dep. Variable:                 Scores   R-squared:                       0.953\n",
            "Model:                            OLS   Adj. R-squared:                  0.951\n",
            "Method:                 Least Squares   F-statistic:                     465.8\n",
            "Date:                Sun, 07 Feb 2021   Prob (F-statistic):           9.13e-17\n",
            "Time:                        18:02:02   Log-Likelihood:                -77.514\n",
            "No. Observations:                  25   AIC:                             159.0\n",
            "Df Residuals:                      23   BIC:                             161.5\n",
            "Df Model:                           1                                         \n",
            "Covariance Type:            nonrobust                                         \n",
            "==============================================================================\n",
            "                 coef    std err          t      P>|t|      [0.025      0.975]\n",
            "------------------------------------------------------------------------------\n",
            "const          2.4837      2.532      0.981      0.337      -2.753       7.721\n",
            "x1             9.7758      0.453     21.583      0.000       8.839      10.713\n",
            "==============================================================================\n",
            "Omnibus:                        7.616   Durbin-Watson:                   1.460\n",
            "Prob(Omnibus):                  0.022   Jarque-Bera (JB):                2.137\n",
            "Skew:                          -0.216   Prob(JB):                        0.343\n",
            "Kurtosis:                       1.634   Cond. No.                         13.0\n",
            "==============================================================================\n",
            "\n",
            "Warnings:\n",
            "[1] Standard Errors assume that the covariance matrix of the errors is correctly specified.\n"
          ],
          "name": "stdout"
        }
      ]
    },
    {
      "cell_type": "code",
      "metadata": {
        "colab": {
          "base_uri": "https://localhost:8080/",
          "height": 265
        },
        "id": "mBBuSB7anbfN",
        "outputId": "a71266ab-1b75-4c53-aaa1-0ba4edf3be19"
      },
      "source": [
        "plt.scatter(x_s, y_s)\r\n",
        "plt.plot(x_s, model_s.predict(x_s), color='red')\r\n",
        "plt.plot(x_s, result_s.predict(x_sm), color='blue')\r\n",
        "plt.show()"
      ],
      "execution_count": null,
      "outputs": [
        {
          "output_type": "display_data",
          "data": {
            "image/png": "[encoded data removed]",
            "text/plain": [
              "<Figure size 432x288 with 1 Axes>"
            ]
          },
          "metadata": {
            "tags": [],
            "needs_background": "light"
          }
        }
      ]
    },
    {
      "cell_type": "code",
      "metadata": {
        "id": "To0dzDYBnukZ"
      },
      "source": [
        ""
      ],
      "execution_count": null,
      "outputs": []
    }
  ]
}